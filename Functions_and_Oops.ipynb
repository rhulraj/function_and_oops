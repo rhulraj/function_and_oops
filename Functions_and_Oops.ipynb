{
 "cells": [
  {
   "cell_type": "code",
   "execution_count": 1,
   "id": "a4fdd1a3-7932-4a74-a11d-ef4362ec8552",
   "metadata": {},
   "outputs": [],
   "source": [
    "#1 Explain the importance of Functions.\n",
    "#Ans- Functions in programming play a crucial role and are important for many reason.\n",
    "      # Functions is created for do a specific task , If we need to do same task in different place of program \n",
    "      # we can use fuctions instead of writing same code again and agian. In big program there is lots of code. Fuctions \n",
    "      # helps to keep code organized. We can use function in different part of our program. Fuctions are useful in collaboration."
   ]
  },
  {
   "cell_type": "code",
   "execution_count": 3,
   "id": "a424948b-d05d-47db-9402-ced5aef03970",
   "metadata": {},
   "outputs": [
    {
     "name": "stdout",
     "output_type": "stream",
     "text": [
      "Welcome! Rahul\n"
     ]
    }
   ],
   "source": [
    "#2 Write a basic function to greet students.\n",
    "# Ans \n",
    "def greet(name):\n",
    "    print(f\"Welcome! {name}\") \n",
    "greet(\"Rahul\")"
   ]
  },
  {
   "cell_type": "code",
   "execution_count": 5,
   "id": "bbdcbb70-15f8-40f8-8a3f-b9bc2cd953fe",
   "metadata": {},
   "outputs": [
    {
     "name": "stdout",
     "output_type": "stream",
     "text": [
      "4\n"
     ]
    }
   ],
   "source": [
    "#3 What is the difference between print and return statements.\n",
    "#Ans: Return statement is used to exit the functions and return a value of a function. Return statement specify a value  \n",
    "#    that functions should return the value when function is called.\n",
    "#syntax of return statement\n",
    "def square(num):\n",
    "    return num * num\n",
    "  # Print statement is a inbuilt method that is used to display outputs of code to the console or terminal\n",
    "  # syntax of print statement\n",
    "print(square(2))\n"
   ]
  },
  {
   "cell_type": "code",
   "execution_count": 7,
   "id": "20387a5b-b02d-4977-9bb4-dd348e59ead2",
   "metadata": {},
   "outputs": [],
   "source": [
    "#4  What are *args and **kwargs.\n",
    "#Ans *args(Arbitrary Argument) allow a function to accept any number of arguments. The (*)astericks before the paramenter\n",
    "#    name that is used to denotes that it can take multiple argument. The argument passed with arbitrary arguments are treated as tuple\n",
    "#   **kwargs(Keyword arguments) allow a function to accept any number of keyword agruments. The (**) double astericks before the argument\n",
    "#   is used to denotes that it can take multiple key words arguments . The arguments passed with keyword argument are treated as \n",
    "#   dictionary\n"
   ]
  },
  {
   "cell_type": "code",
   "execution_count": 10,
   "id": "a4fbc42b-aa0c-459e-8840-78bdc3de5114",
   "metadata": {},
   "outputs": [],
   "source": [
    "#5 Explain the iterator funtion.\n",
    "#Ans Iterator function in python is an object that is used to iterate the iterable objects like list , set, tuple, ans dict.\n",
    "#    The iterator object initialised using iter() method and it uses next() for iteration."
   ]
  },
  {
   "cell_type": "code",
   "execution_count": 21,
   "id": "3076b820-ffb3-48cf-b883-c29a01303827",
   "metadata": {},
   "outputs": [
    {
     "name": "stdin",
     "output_type": "stream",
     "text": [
      " 6\n"
     ]
    },
    {
     "name": "stdout",
     "output_type": "stream",
     "text": [
      "1\n",
      "4\n",
      "9\n",
      "16\n",
      "25\n",
      "36\n"
     ]
    }
   ],
   "source": [
    "#6 Write a code that generates the squares of numbers from 1 to n using a generator.\n",
    "#Ans \n",
    "n = int(input())\n",
    "def generator(n):\n",
    "    for i in range(1,n+1):\n",
    "        yield i *i\n",
    "func = generator(n)\n",
    "\n",
    "for i in func:\n",
    "    print(i)"
   ]
  },
  {
   "cell_type": "code",
   "execution_count": 55,
   "id": "b2f177ae-f59f-442a-b703-6dd362b61659",
   "metadata": {},
   "outputs": [
    {
     "name": "stdout",
     "output_type": "stream",
     "text": [
      "0\n",
      "1\n",
      "2\n",
      "3\n",
      "4\n",
      "5\n",
      "6\n",
      "7\n",
      "8\n",
      "9\n",
      "11\n",
      "22\n",
      "33\n",
      "44\n",
      "55\n",
      "66\n",
      "77\n",
      "88\n",
      "99\n",
      "101\n",
      "111\n",
      "121\n"
     ]
    }
   ],
   "source": [
    "#7  Write a code that generates palindromic numbers up to n using a generator.\n",
    "#Ans  \n",
    "# n = int(input())\n",
    "def genPalindromic(n):\n",
    "    for i in range(n+1):\n",
    "        num1 = i % 10\n",
    "        num2 =i // 10\n",
    "        while num2 > 0:\n",
    "            num = num2 % 10\n",
    "            num1 = num1 * 10 + num\n",
    "            num2 = num2 // 10\n",
    "        if num1  == i:\n",
    "            yield i\n",
    "for i in genPalindromic(121) :\n",
    "    print(i)"
   ]
  },
  {
   "cell_type": "code",
   "execution_count": 61,
   "id": "0e8500af-24e1-4046-8142-b905d437ce5b",
   "metadata": {},
   "outputs": [
    {
     "name": "stdin",
     "output_type": "stream",
     "text": [
      " 12\n"
     ]
    },
    {
     "name": "stdout",
     "output_type": "stream",
     "text": [
      "2\n",
      "4\n",
      "6\n",
      "8\n",
      "10\n",
      "12\n"
     ]
    }
   ],
   "source": [
    "#8 Write a code that generates even numbers from 2 to n using a generator.\n",
    "#Ans \n",
    "n = int(input())\n",
    "def genEven(n):\n",
    "    for i in range(1,n+1):\n",
    "        if i % 2 ==0:\n",
    "            yield i\n",
    "func = genEven(n)\n",
    "for i in func:\n",
    "    print(i)"
   ]
  },
  {
   "cell_type": "code",
   "execution_count": 63,
   "id": "7c885ecb-689d-4ba6-afff-e831ede50514",
   "metadata": {},
   "outputs": [
    {
     "name": "stdin",
     "output_type": "stream",
     "text": [
      " 12\n"
     ]
    },
    {
     "name": "stdout",
     "output_type": "stream",
     "text": [
      "1\n",
      "4\n",
      "9\n",
      "16\n",
      "25\n",
      "36\n",
      "49\n",
      "64\n",
      "81\n",
      "100\n",
      "121\n",
      "144\n"
     ]
    }
   ],
   "source": [
    "# 9 Write a code that generates powers of two up to n using a generator.\n",
    "n = int(input())\n",
    "def genPower(n):\n",
    "    for i in range(1,n+1):\n",
    "        yield i ** 2\n",
    "for i in genPower(n):\n",
    "    print(i)\n",
    "        "
   ]
  },
  {
   "cell_type": "code",
   "execution_count": 111,
   "id": "182d2dc0-0659-423f-a4c1-0726fcb0b19b",
   "metadata": {},
   "outputs": [
    {
     "name": "stdin",
     "output_type": "stream",
     "text": [
      " 12\n"
     ]
    },
    {
     "name": "stdout",
     "output_type": "stream",
     "text": [
      "2\n",
      "3\n",
      "5\n",
      "7\n",
      "11\n"
     ]
    }
   ],
   "source": [
    "#10 Write a code that generates prime numbers up to n using a generator.\n",
    "n = int(input())\n",
    "def genPrime(n):\n",
    "    if n == 2:\n",
    "        yield 2\n",
    "        return\n",
    "    elif n <=1:\n",
    "        return\n",
    "    else :\n",
    "        yield 2\n",
    "    for i in range(3,n+1):\n",
    "         isDiv = False\n",
    "         for j in range(2,i):\n",
    "             if i % j == 0:\n",
    "                 isDiv = True\n",
    "         if isDiv == False:\n",
    "             yield i\n",
    "func = genPrime(n)\n",
    "for i in func:\n",
    "    print(i)\n",
    "        "
   ]
  },
  {
   "cell_type": "code",
   "execution_count": 2,
   "id": "79dbf320-596a-477c-8555-540a5551bb4c",
   "metadata": {},
   "outputs": [
    {
     "data": {
      "text/plain": [
       "9"
      ]
     },
     "execution_count": 2,
     "metadata": {},
     "output_type": "execute_result"
    }
   ],
   "source": [
    "#11 Write a code that uses a lambda function to calculate the sum of two numbers.\n",
    "#Ans\n",
    "sumOfTwoNum = lambda x,y : x+y\n",
    "sumOfTwoNum(3,6)"
   ]
  },
  {
   "cell_type": "code",
   "execution_count": 6,
   "id": "3b87ebb6-a083-4edf-9f20-7320ee32620b",
   "metadata": {},
   "outputs": [
    {
     "data": {
      "text/plain": [
       "256"
      ]
     },
     "execution_count": 6,
     "metadata": {},
     "output_type": "execute_result"
    }
   ],
   "source": [
    "# 12 Write a code that uses a lambda function to calculate the square of a given number.\n",
    "#Ans\n",
    "squareOfNum = lambda x: x**2\n",
    "squareOfNum(16)"
   ]
  },
  {
   "cell_type": "code",
   "execution_count": 12,
   "id": "ef0c9adf-8545-482c-8bd1-a5d4e44e4585",
   "metadata": {},
   "outputs": [
    {
     "data": {
      "text/plain": [
       "'odd'"
      ]
     },
     "execution_count": 12,
     "metadata": {},
     "output_type": "execute_result"
    }
   ],
   "source": [
    "# 13 Write a code that uses a lambda function to check whether a given number is even or odd.\n",
    "checkNum = lambda x: \"even\" if x % 2 == 0 else \"odd\"\n",
    "checkNum(4)\n",
    "checkNum(3)"
   ]
  },
  {
   "cell_type": "code",
   "execution_count": 16,
   "id": "47c50623-aa9a-43c8-bbdf-3a021504e7bb",
   "metadata": {},
   "outputs": [
    {
     "data": {
      "text/plain": [
       "'Pw Skills'"
      ]
     },
     "execution_count": 16,
     "metadata": {},
     "output_type": "execute_result"
    }
   ],
   "source": [
    "# 15 Write a code that uses a lambda function to concatenate two strings.\n",
    "#Ans\n",
    "concatenateStr = lambda x,y: x + y\n",
    "concatenateStr(\"Pw \", \"Skills\")"
   ]
  },
  {
   "cell_type": "code",
   "execution_count": 26,
   "id": "88b0038f-7fc4-43c2-ac15-f608217103e9",
   "metadata": {},
   "outputs": [
    {
     "data": {
      "text/plain": [
       "24"
      ]
     },
     "execution_count": 26,
     "metadata": {},
     "output_type": "execute_result"
    }
   ],
   "source": [
    "# 16  Write a code that uses a lambda funtion to find the maximum of three given numbers.\n",
    "#Ans\n",
    "max = lambda a,b,c: a if a > b and a > c else b if b > c else c\n",
    "max(12,24,19)"
   ]
  },
  {
   "cell_type": "code",
   "execution_count": 34,
   "id": "ef478e6d-1927-4935-b576-929c05537940",
   "metadata": {},
   "outputs": [
    {
     "name": "stdout",
     "output_type": "stream",
     "text": [
      "4\n",
      "16\n",
      "36\n",
      "64\n",
      "100\n"
     ]
    }
   ],
   "source": [
    "# 17  Write a code that generates the squares of even numbers from a given list.\n",
    "#Ans\n",
    "lis = [1,2,3,4,5,6,7,8,9,10]\n",
    "squareOfEven = lambda x: [i**2 for i in x if i % 2 == 0 ]\n",
    "for i in squareOfEven(lis):\n",
    "    print(i)\n"
   ]
  },
  {
   "cell_type": "code",
   "execution_count": 69,
   "id": "22c0178c-3298-4b17-8a3a-f1ffd7f0c159",
   "metadata": {},
   "outputs": [
    {
     "data": {
      "text/plain": [
       "168"
      ]
     },
     "execution_count": 69,
     "metadata": {},
     "output_type": "execute_result"
    }
   ],
   "source": [
    "# 18 Write a code that calculates the product of positive numbers from a given list.\n",
    "#Ans \n",
    "def func(*args):\n",
    "    product = 1\n",
    "    for i in args:\n",
    "        if i > 0:\n",
    "            product *= i\n",
    "    return product\n",
    "func(-1,2,3,4,-6,7)"
   ]
  },
  {
   "cell_type": "code",
   "execution_count": 73,
   "id": "efbd965b-bfa0-4786-8ae6-6044a801cd7f",
   "metadata": {},
   "outputs": [
    {
     "data": {
      "text/plain": [
       "[2, 2, 6, 4, 10, 6, 14, 8, 18]"
      ]
     },
     "execution_count": 73,
     "metadata": {},
     "output_type": "execute_result"
    }
   ],
   "source": [
    "# 19  Write a code that doubles the values of odd numbers from a given list.\n",
    "#Ans \n",
    "doubles = lambda x : [i+i  if i % 2 !=0 else i for i in x]\n",
    "lis = [1,2,3,4,5,6,7,8,9]\n",
    "doubles(lis)"
   ]
  },
  {
   "cell_type": "code",
   "execution_count": 79,
   "id": "9d2887d7-6f20-49ad-a055-0160208b8af1",
   "metadata": {},
   "outputs": [
    {
     "data": {
      "text/plain": [
       "1296"
      ]
     },
     "execution_count": 79,
     "metadata": {},
     "output_type": "execute_result"
    }
   ],
   "source": [
    "# 20 Write a code that calculates the sum of cubes of numbers from a given list.\n",
    "#Ans \n",
    "def func(lis):\n",
    "    sums = 0\n",
    "    for i in  lis:\n",
    "       sums += i ** 3\n",
    "    return sums\n",
    "func([1,2,3,4,5,6,7,8])"
   ]
  },
  {
   "cell_type": "code",
   "execution_count": 93,
   "id": "12016c5d-133c-4cb5-a1ff-6eb7c1835c58",
   "metadata": {},
   "outputs": [
    {
     "data": {
      "text/plain": [
       "[1, 2, 3, 5, 7, 13, 17]"
      ]
     },
     "execution_count": 93,
     "metadata": {},
     "output_type": "execute_result"
    }
   ],
   "source": [
    "# 21 Write a code that filters the prime numbers from a given list.\n",
    "#Ans \n",
    "def primeNum(x):\n",
    "    if x==2:\n",
    "        return True\n",
    "        \n",
    "    isPrime = True\n",
    "    for i in range(2,x):\n",
    "        if x % i ==0:\n",
    "            isPrime = False\n",
    "    return isPrime\n",
    "lis = [1,2,3,4,5,6,7,8,9,12,13,17]\n",
    "filPrime = filter(primeNum,lis)\n",
    "list(filPrime)\n",
    "\n"
   ]
  },
  {
   "cell_type": "code",
   "execution_count": 1,
   "id": "b7da0e70-2005-4fc4-b836-2d0624b3fbff",
   "metadata": {},
   "outputs": [
    {
     "data": {
      "text/plain": [
       "15"
      ]
     },
     "execution_count": 1,
     "metadata": {},
     "output_type": "execute_result"
    }
   ],
   "source": [
    "# 22 Write a code that uses a lambda function to calculate the sum of two numbers.\n",
    "#Ans\n",
    "sumOfTwoNum = lambda x,y : x+y\n",
    "sumOfTwoNum(7,8)"
   ]
  },
  {
   "cell_type": "code",
   "execution_count": 5,
   "id": "2ec09e22-40a8-45cd-b317-cb0b907ba377",
   "metadata": {},
   "outputs": [
    {
     "data": {
      "text/plain": [
       "4356"
      ]
     },
     "execution_count": 5,
     "metadata": {},
     "output_type": "execute_result"
    }
   ],
   "source": [
    "# 23 Write a code that uses a lambda function to calculate the square of a given number.\n",
    "#Ans\n",
    "squareOfNum = lambda x: x**2\n",
    "squareOfNum(66)"
   ]
  },
  {
   "cell_type": "code",
   "execution_count": 7,
   "id": "2a89ed1a-7cbf-493e-89a2-a159a6f8d2a5",
   "metadata": {},
   "outputs": [
    {
     "data": {
      "text/plain": [
       "'odd'"
      ]
     },
     "execution_count": 7,
     "metadata": {},
     "output_type": "execute_result"
    }
   ],
   "source": [
    "# 24 Write a code that uses a lambda function to check whether a given number is even or odd.\n",
    "checkNum = lambda x: \"even\" if x % 2 == 0 else \"odd\"\n",
    "checkNum(31)"
   ]
  },
  {
   "cell_type": "code",
   "execution_count": 11,
   "id": "2ed8cfd9-121c-4e6d-bb5d-1e4520cfceb6",
   "metadata": {},
   "outputs": [
    {
     "data": {
      "text/plain": [
       "'Pw Skills'"
      ]
     },
     "execution_count": 11,
     "metadata": {},
     "output_type": "execute_result"
    }
   ],
   "source": [
    "#25 Write a code that uses a lambda function to concatenate two strings.\n",
    "#Ans\n",
    "concatenateStr = lambda x,y: x + y\n",
    "concatenateStr(\"Pw \", \"Skills\")"
   ]
  },
  {
   "cell_type": "code",
   "execution_count": 13,
   "id": "0bbab6f9-e852-4a7c-a9dd-4fd5636b913e",
   "metadata": {},
   "outputs": [
    {
     "data": {
      "text/plain": [
       "324"
      ]
     },
     "execution_count": 13,
     "metadata": {},
     "output_type": "execute_result"
    }
   ],
   "source": [
    "# 26 Write a code that uses a lambda funtion to find the maximum of three given numbers.\n",
    "#Ans\n",
    "max = lambda a,b,c: a if a > b and a > c else b if b > c else c\n",
    "max(129,324,191)"
   ]
  },
  {
   "cell_type": "code",
   "execution_count": 1,
   "id": "7c9f6a4e-c5b6-42da-93d1-58ffed1c8af3",
   "metadata": {},
   "outputs": [],
   "source": [
    "# 27 What is encapsulation in OOP?\n",
    "#Ans Encapsulation is a python technique for combining data and method into a single objects. It helps to restrict access\n",
    "#  some of data components . It helps to protect integrity of data and ensures proper usages.Encapsulation is the process of\n",
    "# hiding the state of objects and requiring all interaction to be performed by the methods of objects.\n",
    "# It provides better control over data and prevent accidental modification of data."
   ]
  },
  {
   "cell_type": "code",
   "execution_count": 2,
   "id": "0d9e6ae6-c642-466d-b615-a08f3c5445d8",
   "metadata": {},
   "outputs": [],
   "source": [
    "# 28  Explain the use of access modifiers in Python classes.\n",
    "# Ans Access modifiers in python classes  control the restrict use of a class variable and methods. Public, protected and private \n",
    "# are the three access modifiers that pyhon offers. \n",
    "# Public member : we can access from outside and inside of class . By default the class member are all public\n",
    "# Private member : Private member can be only access with in class. They are not directly available to the class objects.\n",
    "# Protected member : Protected member can be access within class and its subclass."
   ]
  },
  {
   "cell_type": "code",
   "execution_count": 4,
   "id": "64fb3424-2843-4146-b24d-1833305de14e",
   "metadata": {},
   "outputs": [],
   "source": [
    "# 29  What is inheritance in OOP?\n",
    "# Ans  Inheritance play a significant role in oops . In python inheritance is the process of child class inherits the prent\n",
    "#   class's properties and behaviours . The reuse of code instead of eriting it from scratch when creating a new class is the \n",
    "#   main goal of inheritance."
   ]
  },
  {
   "cell_type": "code",
   "execution_count": 8,
   "id": "63164c32-723b-4247-8356-341a40d5629c",
   "metadata": {},
   "outputs": [],
   "source": [
    "# 30 Define polymorphism in OOP.\n",
    "# Ans Polumorphism in oop refers to a object capicity to assume several forms . Simply said polymorphism enables us to carry \n",
    "#  out a signle activity in variety of ways. Polymorphism is a foundation concept  in programing that allow entities like function , \n",
    "#   method or  operator to behave different based on the type of data they are handling .\n"
   ]
  },
  {
   "cell_type": "code",
   "execution_count": 10,
   "id": "a7a82533-96be-4cc2-90d6-46de55f8757d",
   "metadata": {},
   "outputs": [],
   "source": [
    "# 31 Explain method Overriding in Python.\n",
    "# Ans  Method overriding in python is the process of providing another implementation of method that is already defined in \n",
    "# super class within the sub class. The name , parameter and return type of the ovveriden method same as those is in the \n",
    "# super class method . Method overriding occurs when method of subclass has same name and signature as the super class method.\n",
    "# When the subclass object is used to call the overriden method during runtime subclass method is invoked."
   ]
  },
  {
   "cell_type": "code",
   "execution_count": 14,
   "id": "60811de4-833b-48e2-bb20-23bad361cd63",
   "metadata": {},
   "outputs": [
    {
     "name": "stdout",
     "output_type": "stream",
     "text": [
      "Woof!\n"
     ]
    }
   ],
   "source": [
    "# 32 Define a parent class animal with a method make_sound that prints \"Generic animal sounds\" Create a\n",
    "# child class Dog inheriting from animal with a method make_sound that prints \"Woof!\".\n",
    "class Animal:\n",
    "    def make_sound(self):\n",
    "        print(\"Genric animal sounds\")\n",
    "class Dog(Animal):\n",
    "    def make_sound(self):\n",
    "        print(\"Woof!\")\n",
    "a = Dog()\n",
    "a.make_sound()\n",
    "    "
   ]
  },
  {
   "cell_type": "code",
   "execution_count": 16,
   "id": "ada2bc81-2d10-446d-be1a-5b714b4bc8e3",
   "metadata": {},
   "outputs": [
    {
     "name": "stdout",
     "output_type": "stream",
     "text": [
      "Dogs run\n"
     ]
    }
   ],
   "source": [
    "# 33 Define a method move in the animal class that prints \"Animal moves\". Override the move method in the\n",
    "# Dog class to print \"Dogs runs\".\n",
    "class Animal:\n",
    "    def make_sound(self):\n",
    "        print(\"Genric animal sounds\")\n",
    "    def move(self):\n",
    "        print(\"Animal moves\")\n",
    "class Dog(Animal):\n",
    "    def make_sound(self):\n",
    "        print(\"Woof!\")\n",
    "    def move(self):\n",
    "        print(\"Dogs run\")\n",
    "b = Dog()\n",
    "b.move()"
   ]
  },
  {
   "cell_type": "code",
   "execution_count": 18,
   "id": "675d4952-c7f3-4f7c-97f0-36023493167d",
   "metadata": {},
   "outputs": [
    {
     "name": "stdout",
     "output_type": "stream",
     "text": [
      "Giving Birth to live young\n",
      "Dogs run\n"
     ]
    }
   ],
   "source": [
    "# 34 Create a class Mammal with a method reproduce that prints \"Giving Birth to live young\". Create a class\n",
    "#DogMammal inheriting from both Dog and Mammal.\n",
    "class Mammal:\n",
    "    def reproduce(self):\n",
    "        print(\"Giving Birth to live young\")\n",
    "\n",
    "class DogMammal(Mammal,Dog):\n",
    "    pass\n",
    "a = DogMammal()\n",
    "a.reproduce()\n",
    "a.move()"
   ]
  },
  {
   "cell_type": "code",
   "execution_count": 26,
   "id": "6b0cd742-b465-4079-9fe1-d601dee87513",
   "metadata": {},
   "outputs": [
    {
     "name": "stdout",
     "output_type": "stream",
     "text": [
      "Bark!\n"
     ]
    }
   ],
   "source": [
    "# 35  Create a class GermanShepherd inheriting from Dog and override the make_sound method to print \"Bark!\".\n",
    "class GermanShepherd(Dog):\n",
    "    def make_sound(self):\n",
    "        print(\"Bark!\")\n",
    "c = GermanShepherd()\n",
    "c.make_sound()"
   ]
  },
  {
   "cell_type": "code",
   "execution_count": 22,
   "id": "dac04405-281e-4ca1-933a-10f8e2a9d98a",
   "metadata": {},
   "outputs": [
    {
     "data": {
      "text/plain": [
       "'dog'"
      ]
     },
     "execution_count": 22,
     "metadata": {},
     "output_type": "execute_result"
    }
   ],
   "source": [
    "#  36 Define constructors in both the Animal and Dog classes with differen initialization parameters.\n",
    "class Animal:\n",
    "    def __init__(self,name):\n",
    "        self.name = name\n",
    "    def make_sound(self):\n",
    "        print(\"Genric animal sounds\")\n",
    "    def move(self):\n",
    "        print(\"Animal moves\")\n",
    "    def animalName(self):\n",
    "        print(self.name)\n",
    "class Dog(Animal):\n",
    "    def __init__(self,name,age):\n",
    "        super().__init__(name)\n",
    "        self.age = age\n",
    "    def make_sound(self):\n",
    "        print(\"Woof!\")\n",
    "    def move(self):\n",
    "        print(\"Dogs run\")\n",
    "a = Dog(\"dog\",28)\n",
    "a.name"
   ]
  },
  {
   "cell_type": "code",
   "execution_count": 24,
   "id": "1cf38e7b-9c2d-4ebe-be21-bff2c5a798e8",
   "metadata": {},
   "outputs": [],
   "source": [
    "# 37 What is abstraction in Python? how is it implemented?\n",
    "#Ans Abstraction is one of the most essential concept of pyhon oops which is used to hide irrelevant data from the user and show relevant data to the \n",
    "# user.  To create abstract class and abstract method we need to import ABC and abstractmethod from abc module.\n",
    "#  Cteate a base class that inherit ABC class. If a class that inherits ABC class , that means it indicated that the class intended to be an\n",
    "#   abstact base class . Inside base class we need to declare a method with asbstractmethos decorator . The subclass which derive from base class\n",
    "# must implement that abstrat method which is delcared in base class."
   ]
  },
  {
   "cell_type": "code",
   "execution_count": 26,
   "id": "f8974f8a-748a-4ef0-801d-b40a6d1d37d0",
   "metadata": {},
   "outputs": [],
   "source": [
    "# 38 Explain the importance of abstraction in object-oriented programming.\n",
    "# Ans Abstraction enables to hide complex implementation details while it showing user the most crucial data and function.\n",
    "# The abstraction make easier to design modular and well organized code, make it simpler to understand and maintain, promote reuse of code and \n",
    "#  improve developer collaboration."
   ]
  },
  {
   "cell_type": "code",
   "execution_count": 1,
   "id": "30f9b523-4ce8-4020-9438-40d15a241d7a",
   "metadata": {},
   "outputs": [],
   "source": [
    "# 39  How are abstract methods different from regular methods in Python?\n",
    "# Ans An abstract method that is declare in abstract class but does not contain any implementation ,Instead it  provide signature for method that must be \n",
    "# implemented in subclass. But the normal method that can be implemented in any class , That can directly used by instance of class.\n",
    "# Abstract method enforce that subclass must implement this method. In case of normal method it does not require to implement in subclass unless they are\n",
    "# overriden. Abstract method define with abstractmethod decorator from abc class."
   ]
  },
  {
   "cell_type": "code",
   "execution_count": 3,
   "id": "f4a9a9a1-c1c8-42be-8d5d-252ea5dffa05",
   "metadata": {},
   "outputs": [],
   "source": [
    "#40  How can you achieve abstraction using interfaces in Python?\n",
    "#Ans In python there is no interface keyword like java. Python uses Abtract Base Classes(ABCs) which is imported from abc class, which can be used to create interface.\n",
    "# The @abstractmethod  decorator is used to define abstract method."
   ]
  },
  {
   "cell_type": "code",
   "execution_count": 7,
   "id": "c3c801ee-622a-4ed4-9621-b3bbd724a2ff",
   "metadata": {},
   "outputs": [],
   "source": [
    "#41 Can you provide an example of how abstraction can we utilized to create a common interface for a group\n",
    "# of related classes in Python.\n",
    "#Ans Here i define a class of animal which will serve as a commaon interface for all animal. This class define some abstract method which must be implented by subclass.\n",
    "from abc import ABC, abstractmethod\n",
    "class Animal(ABC):\n",
    "    @abstractmethod\n",
    "    def make_sound(self):\n",
    "        pass\n",
    "    @abstractmethod\n",
    "    def animal_type(self):\n",
    "        pass\n",
    "    \n",
    "class Lion(Animal):\n",
    "    def make_sound(self):\n",
    "        print(\"ror\")\n",
    "    def animal_type(self):\n",
    "        print(\"Carnivorous\")\n",
    "\n",
    "class Dog(Animal):\n",
    "    def make_sound(self):\n",
    "        print(\"woof!\")\n",
    "    def animal_type(self):\n",
    "        print(\"Omnivorous\")\n",
    "# here make_sound ans animal_type is an abstract method that define as common interface. @abstractmethod decorator is used to define abstract that that must be implemented\n",
    "# in  class which inherits Animal class"
   ]
  },
  {
   "cell_type": "code",
   "execution_count": 9,
   "id": "0d776861-4304-4610-8ad3-c1a2615af819",
   "metadata": {},
   "outputs": [],
   "source": [
    "#42 How does Python achieve polymorphism through method overriding.\n",
    "#Ans Polymorphism in python can be achieve through method overriding which allows to the subclass for implementation of method that already defined in superclass.\n",
    "#   It is a key feature in OOPs that allows to the objects of differnet class are treated objects of same superclass still allowing to exhibit different \n",
    "# behaviour.  The overriden method of subclass must be have same name and signature as defined in parent class."
   ]
  },
  {
   "cell_type": "code",
   "execution_count": 17,
   "id": "d3a5d0ca-1123-4ccb-9f23-6fdcf47dc222",
   "metadata": {},
   "outputs": [
    {
     "name": "stdout",
     "output_type": "stream",
     "text": [
      "10 km per lit\n"
     ]
    }
   ],
   "source": [
    "# 43  Define a base class with a method and a subclass that overrides the method.\n",
    "#Ans Here i defined a base class vehicle with method fuelEfficiency \n",
    "class Vehicle():\n",
    "    def fuelEfficiency(self):\n",
    "        print(\"depend on vehicle\")\n",
    "\n",
    "class Car(Vehicle):\n",
    "    def fuelEfficiency(self):\n",
    "        print(\"10 km per lit\")\n",
    "a = Car()\n",
    "a.fuelEfficiency()\n",
    "# method in class car is same as defined in class vihecle but method of class car is overrides the method of parent class  .  "
   ]
  },
  {
   "cell_type": "code",
   "execution_count": 29,
   "id": "2ac9b95e-d2b1-47b4-943b-8a75a7a8d5b3",
   "metadata": {},
   "outputs": [
    {
     "name": "stdout",
     "output_type": "stream",
     "text": [
      "2000000\n",
      "3 km per lit\n"
     ]
    }
   ],
   "source": [
    "# 44  Define a base class and multiple subclasses with overridden methods.\n",
    "#Ans \n",
    "class Vehicle():\n",
    "    def price_Func(self):\n",
    "        print(\"depend on vehicle\")\n",
    "    def fuelEfficiency(self):\n",
    "        print(\"depend on vehicle\")\n",
    "        \n",
    "class Car(Vehicle):\n",
    "    def __init__(self, price,km):\n",
    "        self.price = price\n",
    "        self.km = km\n",
    "    def price_Func(self):\n",
    "        print(self.price)\n",
    "    def fuelEfficiency(self):\n",
    "        print(f\"{self.km} km per lit\")\n",
    "\n",
    "class  Truck(Vehicle):\n",
    "    def __init__(self, price,km):\n",
    "        self.price = price\n",
    "        self.km = km\n",
    "    def price_Func(self):\n",
    "        print(self.price)\n",
    "    def fuelEfficiency(self):\n",
    "        print(f\"{self.km} km per lit\")\n",
    "\n",
    "suv = Car(2000000,10)\n",
    "suv.price_Func()\n",
    "h = Truck(3000000,3)\n",
    "h.fuelEfficiency()\n",
    "#Here i defined a base class Vehicle which has  price_Func and fuelEfficiency methods , and class Car and Truck inherit from class Vehicle\n",
    "# method in both class which name and signature are same as parent class method that override the method of parents class."
   ]
  },
  {
   "cell_type": "code",
   "execution_count": 2,
   "id": "d9cd982c-01e4-4d30-a306-225751965422",
   "metadata": {},
   "outputs": [],
   "source": [
    "# 45 How does polymorphism improve code readability and reusability?\n",
    "#Ans Polymorphism allow methods to work with objects with various type which simplifies uses and remove th need for conditional checks of defferent types.\n",
    "# Different class which have same supperclass implement same method they can invoke their own implementation  this leads to cleaner and readable.\n",
    "# Allow same method to work with different types. We can write a function that operates an object different types of classes, the same code can\n",
    "# be reused across different types  ."
   ]
  },
  {
   "cell_type": "code",
   "execution_count": 8,
   "id": "796de205-ff35-4f8d-b97b-73fa7a66edd1",
   "metadata": {},
   "outputs": [
    {
     "name": "stdout",
     "output_type": "stream",
     "text": [
      "Woof!\n",
      "Ror!\n"
     ]
    }
   ],
   "source": [
    "#46 Describe how Python supports polymorphism with duck typing.\n",
    "#Ans In python polymorphism is supported through duck typing in which type or class of object less important than method it defines. Using duck typing we\n",
    "#  donot check type at all instead it check presence of given attributes or method \n",
    "class Dog:\n",
    "    def speak(self):\n",
    "        return \"Woof!\"\n",
    "\n",
    "class Lion:\n",
    "    def speak(self):\n",
    "        return \"Ror!\"\n",
    "\n",
    "def animal_sound(animal):\n",
    "    print(animal.speak())\n",
    "dog = Dog()\n",
    "lion = Lion()\n",
    "\n",
    "animal_sound(dog)\n",
    "animal_sound(lion)\n",
    "\n",
    "# In this example Dog and Lion have speak method  animal_sound method doesnot care where object  passed is a dog or lion as long as it has speak method .\n",
    "# the function does not require any specific type of object just \" quake like a duck \" having a speak method the same method work for both objects."
   ]
  },
  {
   "cell_type": "code",
   "execution_count": 10,
   "id": "c6f4e65e-9fd3-4204-a25e-bc691f6982d8",
   "metadata": {},
   "outputs": [],
   "source": [
    "# 47 How  do you achieve encapsulation in Python?\n",
    "#Ans Python achieve the encapsulation primarily the use of attribute and method within a class. Python does not strictly enforce access control like \n",
    "#java or c++ . it provide mechanisms to achieve encapsulation using naming convention. In python by default methods and attribute are public that menas they can \n",
    "# accessed and modified  from outside of class. In python there is no strict protection for attribute and method, but by convention we can use single underscore\n",
    "# to indicate the attribute or method are intended for protected use. unlike double underscore are used to indicate the attribute and method are intended \n",
    "# for private use."
   ]
  },
  {
   "cell_type": "code",
   "execution_count": 18,
   "id": "118e525d-7aa1-43da-bcbf-1587d8fc9e5c",
   "metadata": {},
   "outputs": [
    {
     "name": "stdout",
     "output_type": "stream",
     "text": [
      "200\n",
      "100\n"
     ]
    }
   ],
   "source": [
    "#48 Can encapsulation be bypassed in Python? If so, how?\n",
    "#Ans Yes encapsulation can be bypassed in python, python  is a dynamically typed and flexible language it  relies heavily on convention rather than strict\n",
    "# enforcement of encapsulation . here is few way encapsulation can be bypassed in python written below\n",
    "# Accessing protected member : Protected member is not strictly private but are intended to be used only in the class and its subclass , however still they \n",
    "# can accessed outside from class.\n",
    "class Myclass():\n",
    "    def __init__(self):\n",
    "        self._protected = 200\n",
    "d = Myclass()\n",
    "print(d._protected)\n",
    "# here _protected is a protected attrtibute it should accessed within class and subclass but nothing stop you to access from outside this method is bypassed\n",
    "# Accessing private member: \n",
    "class Prclass():\n",
    "    def __init__(self):\n",
    "        self.__private = 100\n",
    "obj = Prclass()\n",
    "#obj.__private this will throw an error object has no attribute \n",
    "#accessing the private member by name mangling \n",
    "print(obj._Prclass__private)\n",
    "# Here __private attribute internally changed to _prclass__private we can access the vattribute using this name , bypassing the encapsulation. Howerver this break the \n",
    "# intend of encapsulation . likily we can bypassed the encapsulation in pyhton through modifying private members with getattr , setattr and using __dict__ to access \n",
    "# all attribute\n"
   ]
  },
  {
   "cell_type": "code",
   "execution_count": 26,
   "id": "d15d6a50-85ab-448b-bdcc-f644bdf9d9e2",
   "metadata": {},
   "outputs": [
    {
     "name": "stdout",
     "output_type": "stream",
     "text": [
      "5500\n"
     ]
    }
   ],
   "source": [
    "#49 Implement a class BankAccount with a private balance attribute Include methods of deposit, withdraw, and check the balance.\n",
    "class BankAccount():\n",
    "    def __init__(self, balance):\n",
    "        self.__balance = balance\n",
    "\n",
    "    def deposit(self,amount):\n",
    "        self.__balance += amount\n",
    "\n",
    "    def withdraw(self,amount):\n",
    "        self.__balance -= amount\n",
    "\n",
    "    def balance(self):\n",
    "        print(self.__balance)\n",
    "\n",
    "rahul = BankAccount(5000)\n",
    "rahul.deposit(500)\n",
    "rahul.balance()"
   ]
  },
  {
   "cell_type": "code",
   "execution_count": 30,
   "id": "f80d4396-0b39-43a2-a84b-e572c6587592",
   "metadata": {},
   "outputs": [
    {
     "name": "stdout",
     "output_type": "stream",
     "text": [
      "rshr@gmail.com\n"
     ]
    }
   ],
   "source": [
    "#50 Develop a Person class with private attributes name and email, and methods of set and get the email.\n",
    "#Ans \n",
    "class Person():\n",
    "    def __init__(self,name,email):\n",
    "        self.__name =name\n",
    "        self.__email = email\n",
    "    def setEmail(self,email):\n",
    "        self.__email = email\n",
    "    def getEmail(self):\n",
    "        print(self.__email)\n",
    "\n",
    "p =Person(\"rahul\",\"rk@gmail.com\")\n",
    "p.setEmail(\"rshr@gmail.com\")\n",
    "p.getEmail()"
   ]
  },
  {
   "cell_type": "code",
   "execution_count": 1,
   "id": "8ca7ece9-04f2-49da-8eba-6a252d30d065",
   "metadata": {},
   "outputs": [],
   "source": [
    "# 51  Why is encapsulation considered a pillar in object-oriented programming (OOP)?\n",
    "#Ans Encapsulation considered a pillar in OOP because it helps organizing and managing complexity by bundlind data and method that operate data in\n",
    "# single unit called a class. Encapsulation allow you to hide objects attribute it can only accessed through well defined method\n",
    "# By encapsulation data and attribute in class ,you can make each object a self-contained unit. this improve modularity , making it easier to develop,maintain \n",
    "# and debug your code. encapsulation supports abbstraction that means you only expose essential feature of the objects to the ouside of object . this helps \n",
    "# in reducing complexity and allows programmer to focus on high level functionallty. By hinding the internal state of object, we reduce the risk of data corruption.\n",
    "#It increase code reusablity because we can define a class that are independent from external code . This class can be used anywhere in progrom."
   ]
  },
  {
   "cell_type": "code",
   "execution_count": 3,
   "id": "fdc6a6a7-a47c-4a60-8727-a9460e44feed",
   "metadata": {},
   "outputs": [
    {
     "name": "stdout",
     "output_type": "stream",
     "text": [
      "before the execution\n",
      "hello world\n",
      "after the execution\n"
     ]
    }
   ],
   "source": [
    "#52 Create a decorator in Python that adds functionality to a simple function by printing a message before and after the function execution.\n",
    "#Ans\n",
    "def decoratorFunc(func):\n",
    "    def wrapper():\n",
    "        print(\"before the execution\")\n",
    "        func()\n",
    "        print(\"after the execution\")\n",
    "    return wrapper\n",
    "\n",
    "@decoratorFunc\n",
    "def func1():\n",
    "    print(\"hello world\")\n",
    "\n",
    "func1()"
   ]
  },
  {
   "cell_type": "code",
   "execution_count": 3,
   "id": "320c063a-c6aa-45fb-b617-a2e10acba0c7",
   "metadata": {},
   "outputs": [
    {
     "name": "stdout",
     "output_type": "stream",
     "text": [
      "function name : printIn it is used for printin\n",
      "function\n"
     ]
    }
   ],
   "source": [
    "# 53 Modify the decorator to accept arguments and print the functipn name along with the mmessage\n",
    "#Ans \n",
    "import functools\n",
    "def decorator_with_args(message): #This is a outer function that accept messages as argument and retorn actual decorator\n",
    "    def decoratorFunc(func): # this function takes the targeted function as an argument and wrap with wrapper function\n",
    "        functools.wraps(func) # this method is to store metadata like function name docstring and other data\n",
    "        def wrapper():\n",
    "            print(f\"function name : {func.__name__} {message}\")\n",
    "            func()\n",
    "        return wrapper\n",
    "    return decoratorFunc\n",
    "@decorator_with_args(\"it is used for printin\")\n",
    "def printIn():\n",
    "    print(\"function\")\n",
    "printIn()\n"
   ]
  },
  {
   "cell_type": "code",
   "execution_count": 42,
   "id": "1e63093a-b614-471d-af9a-40085c32675c",
   "metadata": {},
   "outputs": [
    {
     "name": "stdout",
     "output_type": "stream",
     "text": [
      "decorator1\n",
      "decorator2\n",
      "function\n"
     ]
    }
   ],
   "source": [
    "# 54 Create two decorators and apply them to a single function. Ensure that they execute in the order they are applied.\n",
    "#Ans \n",
    "def decorator1(func):\n",
    "    def wrapper():\n",
    "        print(\"decorator1\")\n",
    "        func()\n",
    "    return wrapper\n",
    "\n",
    "def decorator2(func):\n",
    "    def wrapper():\n",
    "        print(\"decorator2\")\n",
    "        func()\n",
    "    return wrapper\n",
    "\n",
    "@decorator1\n",
    "@decorator2\n",
    "def func():\n",
    "    print(\"function\")\n",
    "func()\n",
    "\n"
   ]
  },
  {
   "cell_type": "code",
   "execution_count": 5,
   "id": "46535d88-a70e-4d55-a13f-6008b3f93c6b",
   "metadata": {},
   "outputs": [
    {
     "data": {
      "text/plain": [
       "17"
      ]
     },
     "execution_count": 5,
     "metadata": {},
     "output_type": "execute_result"
    }
   ],
   "source": [
    "#55 Modify the decorator to accept and pass function arguments to the wrapped function.\n",
    "#Ans \n",
    "def Mydecorator(func):\n",
    "    def wrapper(*args,**kwargs):\n",
    "        return func(*args,**kwargs)\n",
    "    return wrapper\n",
    "\n",
    "@Mydecorator\n",
    "def add(a,b,c):\n",
    "    return a+b+c\n",
    "\n",
    "add(4,6,7)"
   ]
  },
  {
   "cell_type": "code",
   "execution_count": 51,
   "id": "15d0431e-32d1-458f-8979-3c1adecc6caa",
   "metadata": {},
   "outputs": [
    {
     "name": "stdout",
     "output_type": "stream",
     "text": [
      "arguments of function 2 4\n"
     ]
    },
    {
     "data": {
      "text/plain": [
       "' this fuction is for add two numbers\\n    and return the result'"
      ]
     },
     "execution_count": 51,
     "metadata": {},
     "output_type": "execute_result"
    }
   ],
   "source": [
    "#56 Create a decorator that preserves the metadata of the original function.\n",
    "#Ans \n",
    "import functools\n",
    "def Mydecorator(func):\n",
    "    functools.wraps(func)\n",
    "    def wrapper(*args,**kwargs):\n",
    "        print(\"arguments of function\", *args, **kwargs)\n",
    "        func(*args,**kwargs)\n",
    "        return func\n",
    "    return wrapper\n",
    "@Mydecorator\n",
    "def add(a,b):\n",
    "    \"\"\" this fuction is for add two numbers\n",
    "    and return the result\"\"\"\n",
    "    return a+b\n",
    "a = add(2,4)\n",
    "a.__name__\n",
    "a.__doc__"
   ]
  },
  {
   "cell_type": "code",
   "execution_count": 53,
   "id": "e682f294-1a55-4001-8778-c0767dda5153",
   "metadata": {},
   "outputs": [
    {
     "data": {
      "text/plain": [
       "11"
      ]
     },
     "execution_count": 53,
     "metadata": {},
     "output_type": "execute_result"
    }
   ],
   "source": [
    "#57 Create a Python class `Calculator` with a static method `add` that takes in two numbers and returns their sum.\n",
    "class Calculator():\n",
    "    def add(self,a,b):\n",
    "        return a+b\n",
    "c = Calculator()\n",
    "c.add(4,7)"
   ]
  },
  {
   "cell_type": "code",
   "execution_count": 73,
   "id": "f09c9126-2350-44c3-a28f-8ca98cb5cb85",
   "metadata": {},
   "outputs": [
    {
     "data": {
      "text/plain": [
       "4"
      ]
     },
     "execution_count": 73,
     "metadata": {},
     "output_type": "execute_result"
    }
   ],
   "source": [
    "#58 Create a Python class `Employee` with a class `method get_employee_count` that returns the total number of employees created\n",
    "#Ans\n",
    "class Employee():\n",
    "    total_employee = 0\n",
    "    def __init__(cls):\n",
    "        Employee.total_employee += 1\n",
    "\n",
    "    def get_employee_count(self):\n",
    "        return Employee.total_employee\n",
    "\n",
    "rahul = Employee()\n",
    "robin = Employee()\n",
    "prashant = Employee()\n",
    "a = Employee()\n",
    "a.get_employee_count()"
   ]
  },
  {
   "cell_type": "code",
   "execution_count": 75,
   "id": "1aa0a2d9-0c9f-439b-8a25-0144bcb2a8c3",
   "metadata": {},
   "outputs": [
    {
     "data": {
      "text/plain": [
       "'rahul'"
      ]
     },
     "execution_count": 75,
     "metadata": {},
     "output_type": "execute_result"
    }
   ],
   "source": [
    "#59 Create a Python class `Stringformatter` with a static method `reverse_string` that takes a string as input\n",
    "#and returns its reverse.\n",
    "#Ans \n",
    "class Stringformatter():\n",
    "    def reverse_string(self,string):\n",
    "        ls = list(string)\n",
    "        ls.reverse()\n",
    "        return \"\".join(ls)\n",
    "a = Stringformatter()\n",
    "a.reverse_string(\"luhar\")\n",
    "        \n",
    "        "
   ]
  },
  {
   "cell_type": "code",
   "execution_count": 83,
   "id": "6322d1e1-499a-4038-a5e3-f6fc6d6c17ef",
   "metadata": {},
   "outputs": [
    {
     "data": {
      "text/plain": [
       "314.0"
      ]
     },
     "execution_count": 83,
     "metadata": {},
     "output_type": "execute_result"
    }
   ],
   "source": [
    "#60 Create a Python class `Circle` with a class method `calculate_area` that calculates the area of a circle given its radius.\n",
    "#Ans\n",
    "class Circle():\n",
    "    def __init__(self,raduis):\n",
    "        self.raduis = raduis\n",
    "\n",
    "    def calculate_area(self):\n",
    "        return 3.14 * self.raduis**2 \n",
    "\n",
    "cir = Circle(10)\n",
    "cir.calculate_area()"
   ]
  },
  {
   "cell_type": "code",
   "execution_count": 3,
   "id": "d27281ac-cceb-4c00-839b-1ebe33248455",
   "metadata": {},
   "outputs": [
    {
     "data": {
      "text/plain": [
       "'100.4°F'"
      ]
     },
     "execution_count": 3,
     "metadata": {},
     "output_type": "execute_result"
    }
   ],
   "source": [
    "#61 Create a Python class `TemperatureConverter` with a static method `celsius_to_fahrenheit` that converts Celsius to fahrenheit.\n",
    "#Ans \n",
    "class TemperatureConverter():\n",
    "    def celsius_to_farenheit(self,value):\n",
    "        value_in_farenheit = (value * 9/5)+32\n",
    "        return f\"{value_in_farenheit}°F\"\n",
    "TemperatureConverter().celsius_to_farenheit(38)"
   ]
  },
  {
   "cell_type": "code",
   "execution_count": 11,
   "id": "4f03fc46-0bdb-4340-b9a0-a1fbc04016d1",
   "metadata": {},
   "outputs": [
    {
     "data": {
      "text/plain": [
       "'An instance args : 2'"
      ]
     },
     "execution_count": 11,
     "metadata": {},
     "output_type": "execute_result"
    }
   ],
   "source": [
    "#62 What is the purpose of the __str__() method in Python classes? Provide an example.\n",
    "#Ans  The __str__() method returns the string representation of object. This method is called when str() function is used\n",
    "# with instance of class . example given below\n",
    "class reprent():\n",
    "    def __init__(self,args):\n",
    "        self.x =args\n",
    "    def __str__(self):\n",
    "        return f\"An instance args : {self.x}\"\n",
    "a = reprent(2)\n",
    "str(a)"
   ]
  },
  {
   "cell_type": "code",
   "execution_count": 13,
   "id": "90f98d56-033b-4ffa-a80a-f59e2b49ed6d",
   "metadata": {},
   "outputs": [
    {
     "data": {
      "text/plain": [
       "5"
      ]
     },
     "execution_count": 13,
     "metadata": {},
     "output_type": "execute_result"
    }
   ],
   "source": [
    "# 63 How dees the __len__() method work in Python? Provide an example.\n",
    "# Ans The __len__() method is used to return length of an object. we can define the __len__() method in our own classes\n",
    "#  it will return the length of any custom object.The __len__ function returns the integers which are representation of\n",
    "# element in objects .It commonly used collection or sequence objects like list , sets, tuple ,dict and string. \n",
    "# the __len__()  function is internally  called when we use len() method with an instance of class example:\n",
    "class length():\n",
    "    def __init__(self,seq):\n",
    "        self.seq = seq\n",
    "    def __len__(self):\n",
    "        return len(self.seq)\n",
    "l =length(\"rahul\")\n",
    "len(l)"
   ]
  },
  {
   "cell_type": "code",
   "execution_count": 17,
   "id": "73bddbb4-d370-47cb-b958-2db51b6fe838",
   "metadata": {},
   "outputs": [
    {
     "name": "stdout",
     "output_type": "stream",
     "text": [
      "9\n"
     ]
    }
   ],
   "source": [
    "#64 Explain the usage of the __add__() method in Python classes. Provide an example.\n",
    "#Ans The __add__() method adds the two object and returns a new object as a resultant in python . the __add__ method is called\n",
    "# when + operator is used with instances. example\n",
    "class AddTwoObj():\n",
    "    def __init__ (self,x):\n",
    "        self.x = x\n",
    "    def __add__(self,obj2):\n",
    "        return AddTwoObj(self.x + obj2.x)\n",
    "a =AddTwoObj(4)\n",
    "b =AddTwoObj(5)\n",
    "obj3 = a +b\n",
    "print(obj3.x)   "
   ]
  },
  {
   "cell_type": "code",
   "execution_count": 6,
   "id": "89a835b6-655a-4696-98e2-05d401356145",
   "metadata": {},
   "outputs": [
    {
     "data": {
      "text/plain": [
       "'u'"
      ]
     },
     "execution_count": 6,
     "metadata": {},
     "output_type": "execute_result"
    }
   ],
   "source": [
    "#65  What is the purpose of the __getitem__() method in Python? Provide an example.\n",
    "#Ans  One of the such __getitem__() method enabling python objects behave like sequences or containers that is list,tuple,dictionary and sets .\n",
    "# It takes slice and index that retrieves it associated value from collection. It is invoked automatically when we use indexer [] operator to access\n",
    "# the element within your object.\n",
    "class getItem():\n",
    "    def __init__(self,seq):\n",
    "        self.seq = seq\n",
    "    def __getitem__(self,value):\n",
    "        return self.seq[value]\n",
    "\n",
    "a = getItem(\"rahul\")\n",
    "a[3]"
   ]
  },
  {
   "cell_type": "code",
   "execution_count": 46,
   "id": "e8b989e8-c43c-45b0-bdca-face11623d67",
   "metadata": {},
   "outputs": [
    {
     "name": "stdout",
     "output_type": "stream",
     "text": [
      "1\n",
      "2\n"
     ]
    }
   ],
   "source": [
    "# 66 Explain the usage of the __iter__() and __next__() methods in Python. Provide and example using iterators.\n",
    "#Ans In python the __iter__() function return the iterator for the given iterable objects like array , list,tuple etc. It creates an object that \n",
    "# can be accessed one element at a time using __next__ methods . This is usually useful when dealing with loops.\n",
    "class list1:\n",
    "    def __init__(self,ls):\n",
    "        self.ls = ls,\n",
    "        self.value = -1\n",
    "    def __iter__(self):\n",
    "        return self\n",
    "    def __next__(self):\n",
    "        self.value +=1\n",
    "        if self.value  >=  len(self.ls[0]):\n",
    "            raise StopIteration\n",
    "        return self.ls[0][self.value]\n",
    "ls = list1([1,2,3,4,5])\n",
    "print(next(ls))\n",
    "print(next(ls))\n",
    "    "
   ]
  },
  {
   "cell_type": "code",
   "execution_count": 54,
   "id": "3e875bce-1021-4dfd-9e87-6bcb4eea1718",
   "metadata": {},
   "outputs": [
    {
     "data": {
      "text/plain": [
       "5"
      ]
     },
     "execution_count": 54,
     "metadata": {},
     "output_type": "execute_result"
    }
   ],
   "source": [
    "#67 What is the purpose of a getter method in Python? Provide an example demonstrating the use of a getter method using prpperty decorators.\n",
    "#Ans In python getter method is a method that used to access the value of  attribute from class . example:\n",
    "class Circle:\n",
    "    def __init__(self,raduis):\n",
    "        self._raduis = raduis\n",
    "    @property\n",
    "    def raduis(self):\n",
    "        return self._raduis\n",
    "c = Circle(5)\n",
    "c.raduis"
   ]
  },
  {
   "cell_type": "code",
   "execution_count": 64,
   "id": "43496a49-4bae-46e5-bc85-f2131bca9fac",
   "metadata": {},
   "outputs": [
    {
     "data": {
      "text/plain": [
       "10"
      ]
     },
     "execution_count": 64,
     "metadata": {},
     "output_type": "execute_result"
    }
   ],
   "source": [
    "#68 What is the purpose of a getter method in Python? Provide an example demonstrating the use of a getter method using property decorators.\n",
    "#Ans In python the purpose of a getter method is to set the value of attribute in class with some validation .example:\n",
    "class Circle:\n",
    "    def __init__(self,raduis):\n",
    "        self._raduis = raduis\n",
    "    @property\n",
    "    def raduis(self):\n",
    "        return self._raduis\n",
    "\n",
    "    @raduis.setter\n",
    "    def raduis(self, value):\n",
    "        if value <= 0:\n",
    "            raise ValueError(\"Number should be positive\")\n",
    "        self._raduis = value\n",
    "c = Circle(5)\n",
    "c.raduis = 10\n",
    "c.raduis"
   ]
  },
  {
   "cell_type": "code",
   "execution_count": 76,
   "id": "5f0ab84f-8645-4051-9348-1554da465273",
   "metadata": {},
   "outputs": [],
   "source": [
    "#69  What is the purpose of the @property decorator in Python? Provide an example illustrating its usage.\n",
    "# The @property decorator is a inbuilt decorator in python . which is helpful in defining attribute without calling inbuilt method  ,\n",
    "# its assign value like assigning attribute. It is used to return the attribute of class objects from the stated getter,setterand deletter\n",
    "class Circle:\n",
    "    def __init__(self,raduis):\n",
    "        self._raduis = raduis\n",
    "    @property\n",
    "    def raduis(self):\n",
    "        return self._raduis\n",
    "\n",
    "    @raduis.setter\n",
    "    def raduis(self, value):\n",
    "        if value <= 0:\n",
    "            raise ValueError(\"Number should be positive\")\n",
    "        self._raduis = value\n",
    "    @raduis.deleter\n",
    "    def raduis(self):\n",
    "        del self._raduis\n",
    "\n",
    "c = Circle(3)\n",
    "c.raduis = 10\n",
    "c.raduis\n",
    "del c.raduis"
   ]
  },
  {
   "cell_type": "code",
   "execution_count": 80,
   "id": "98643677-0c20-407d-9a02-83f9bc240fec",
   "metadata": {},
   "outputs": [],
   "source": [
    "# 70  Explain the use of the @deleter decorator in Python property decorators. Provide a code example demonstrating its application.\n",
    "# Ans  The use of the @deleter decorator in Python property is to delete the attribute of an objects of class using det keyword . example:\n",
    "class Circle:\n",
    "    def __init__(self,raduis):\n",
    "        self._raduis = raduis\n",
    "    @property\n",
    "    def raduis(self):\n",
    "        return self._raduis\n",
    "\n",
    "    @raduis.deleter\n",
    "    def raduis(self):\n",
    "        del self._raduis\n",
    "\n",
    "c = Circle(5)\n",
    "c.raduis\n",
    "del c.raduis"
   ]
  },
  {
   "cell_type": "code",
   "execution_count": 82,
   "id": "626ce1bf-c806-41bd-a497-0fd0754a2a0a",
   "metadata": {},
   "outputs": [
    {
     "data": {
      "text/plain": [
       "10"
      ]
     },
     "execution_count": 82,
     "metadata": {},
     "output_type": "execute_result"
    }
   ],
   "source": [
    "# 71  How does encapsulation relate to  property decorators in Python? Provide an example showcasing encapsulation using property decorators.\n",
    "#Ans  Encapsulation is refer to the concept of restricting a access of certain detail of an object attribute and providing controlled access via methods\n",
    "#  In python property decorator are a pythonic way to implement the encapsulation, as they allow to behave method like attribute.\n",
    "class Circle:\n",
    "    def __init__(self,raduis):\n",
    "        self._raduis = raduis\n",
    "    @property\n",
    "    def raduis(self):\n",
    "        return self._raduis\n",
    "\n",
    "    @raduis.setter\n",
    "    def raduis(self, value):\n",
    "        if value <= 0:\n",
    "            raise ValueError(\"Number should be positive\")\n",
    "        self._raduis = value\n",
    "c =Circle(55)\n",
    "c.raduis = 10\n",
    "c.raduis\n",
    "# The circle class hides the _raduis attribute means you can't access the attribute directily from outside . @property decorator is used to define\n",
    "# raduis getter method which allow to access the attribute . and @raduis.setter is used to sefine setter method which allow to modify the value of \n",
    "# _raduis encapsulated attribute but providing validation to assigning the negative value to the _raduis .\n",
    "\n"
   ]
  },
  {
   "cell_type": "code",
   "execution_count": null,
   "id": "f45cf99b-4c0a-461e-8e00-4df74275be61",
   "metadata": {},
   "outputs": [],
   "source": []
  }
 ],
 "metadata": {
  "kernelspec": {
   "display_name": "Python [conda env:base] *",
   "language": "python",
   "name": "conda-base-py"
  },
  "language_info": {
   "codemirror_mode": {
    "name": "ipython",
    "version": 3
   },
   "file_extension": ".py",
   "mimetype": "text/x-python",
   "name": "python",
   "nbconvert_exporter": "python",
   "pygments_lexer": "ipython3",
   "version": "3.12.7"
  }
 },
 "nbformat": 4,
 "nbformat_minor": 5
}
